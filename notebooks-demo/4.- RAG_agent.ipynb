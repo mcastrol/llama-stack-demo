{
 "cells": [
  {
   "cell_type": "markdown",
   "id": "45fc9086-93aa-4645-8ba2-380c3acbbed9",
   "metadata": {},
   "source": [
    "# Level 4: RAG Agent\n",
    "\n",
    "This notebook presents an example of executing queries with a RAG agent in Llama Stack. It shows how to initialize an agent with the RAG tool provided by Llama Stack and to invoke it such that retrieval from a vector DB is activated only when necessary. The notebook also covers document ingestion using the RAG tool.\n",
    "\n",
    "For a simple (non-agentic) RAG tutorial, please refer to [Level1_simple_RAG.ipynb](./Level1_simple_RAG.ipynb).\n",
    "\n",
    "## Overview\n",
    "\n",
    "This notebook covers the following steps:\n",
    "\n",
    "1. Connecting to a llama stack server.\n",
    "2. Indexing a collection of documents into a vector DB for later retrieval.\n",
    "3. Initializing the agent capable of retrieving content from vector DB via tool use.\n",
    "4. Launching the agent and using it to answer user queries about the documents.\n",
    "\n",
    "\n",
    "## Prerequisites\n",
    "\n",
    "Before starting, ensure you have the following:\n",
    "- Followed the instructions in the [Setup Guide](./Level0_getting_started_with_Llama_Stack.ipynb) notebook. \n",
    "- Llama Stack server should be using milvus as its vector DB provider.\n"
   ]
  },
  {
   "cell_type": "markdown",
   "id": "6db34e4b-ed29-4007-b760-59543d4caca1",
   "metadata": {},
   "source": [
    "## 1. Setting Up this Notebook\n",
    "We will start with a few imports needed for this demo only."
   ]
  },
  {
   "cell_type": "code",
   "execution_count": 1,
   "id": "854e7cb4-aed9-4098-adc1-a66f4c9e6ce3",
   "metadata": {
    "tags": []
   },
   "outputs": [],
   "source": [
    "import uuid\n",
    "\n",
    "from llama_stack_client import Agent, RAGDocument\n",
    "from llama_stack_client.lib.agents.event_logger import EventLogger"
   ]
  },
  {
   "cell_type": "markdown",
   "id": "a9ab4244-e7af-405b-b0c3-4bf00411f26e",
   "metadata": {},
   "source": [
    "Next, we will initialize our environment as described in detail in our [\"Getting Started\" notebook](./Level0_getting_started_with_Llama_Stack.ipynb). Please refer to it for additional explanations."
   ]
  },
  {
   "cell_type": "code",
   "execution_count": 2,
   "id": "9b87b139-bd18-47b2-889a-1b8ed3018655",
   "metadata": {},
   "outputs": [
    {
     "name": "stdout",
     "output_type": "stream",
     "text": [
      "Connected to Llama Stack server\n",
      "Inference Parameters:\n",
      "\tModel: llama3.2:3b-instruct-fp16\n",
      "\tSampling Parameters: {'strategy': {'type': 'greedy'}, 'max_tokens': 512}\n",
      "\tstream: False\n"
     ]
    }
   ],
   "source": [
    "# for accessing the environment variables\n",
    "import os\n",
    "from dotenv import load_dotenv\n",
    "load_dotenv()\n",
    "\n",
    "# for communication with Llama Stack\n",
    "from llama_stack_client import LlamaStackClient\n",
    "\n",
    "# pretty print of the results returned from the model/agent\n",
    "import sys\n",
    "sys.path.append('..')  \n",
    "from src.utils import step_printer\n",
    "from termcolor import cprint\n",
    "\n",
    "base_url = os.getenv(\"REMOTE_BASE_URL\")\n",
    "\n",
    "\n",
    "# Tavily search API key is required for some of our demos and must be provided to the client upon initialization.\n",
    "# We will cover it in the agentic demos that use the respective tool. Please ignore this parameter for all other demos.\n",
    "tavily_search_api_key = os.getenv(\"TAVILY_SEARCH_API_KEY\")\n",
    "if tavily_search_api_key is None:\n",
    "    provider_data = None\n",
    "else:\n",
    "    provider_data = {\"tavily_search_api_key\": tavily_search_api_key}\n",
    "\n",
    "\n",
    "client = LlamaStackClient(\n",
    "    base_url=base_url,\n",
    "    provider_data=provider_data\n",
    ")\n",
    "    \n",
    "print(f\"Connected to Llama Stack server\")\n",
    "\n",
    "# model_id for the model you wish to use that is configured with the Llama Stack server\n",
    "\n",
    "model_id =os.getenv(\"MODEL_NAME\")\n",
    "\n",
    "temperature = float(os.getenv(\"TEMPERATURE\", 0.0))\n",
    "if temperature > 0.0:\n",
    "    top_p = float(os.getenv(\"TOP_P\", 0.95))\n",
    "    strategy = {\"type\": \"top_p\", \"temperature\": temperature, \"top_p\": top_p}\n",
    "else:\n",
    "    strategy = {\"type\": \"greedy\"}\n",
    "\n",
    "max_tokens = int(os.getenv(\"MAX_TOKENS\", 4096))\n",
    "\n",
    "# sampling_params will later be used to pass the parameters to Llama Stack Agents/Inference APIs\n",
    "sampling_params = {\n",
    "    \"strategy\": strategy,\n",
    "    \"max_tokens\": max_tokens,\n",
    "}\n",
    "\n",
    "stream_env = os.getenv(\"STREAM\", \"False\")\n",
    "# the Boolean 'stream' parameter will later be passed to Llama Stack Agents/Inference APIs\n",
    "# any value non equal to 'False' will be considered as 'True'\n",
    "stream = (stream_env != \"False\")\n",
    "\n",
    "print(f\"Inference Parameters:\\n\\tModel: {model_id}\\n\\tSampling Parameters: {sampling_params}\\n\\tstream: {stream}\")"
   ]
  },
  {
   "cell_type": "markdown",
   "id": "357655b5-cade-46f4-9f57-be5dcef9abc2",
   "metadata": {},
   "source": [
    "Finally, we will create a unique name for the document collection to be used for RAG ingestion and retrieval."
   ]
  },
  {
   "cell_type": "markdown",
   "id": "9203de51-f570-44ab-8130-36333a54888b",
   "metadata": {},
   "source": [
    "## 2. Indexing the Documents\n",
    "- Initialize a new document collection in the target vector DB. All parameters related to the vector DB, such as the embedding model and dimension, must be specified here.\n",
    "- Provide a list of document URLs to the RAG tool. Llama Stack will handle the fetching, conversion and chunking of the documents' content automatically."
   ]
  },
  {
   "cell_type": "code",
   "execution_count": 3,
   "id": "2dd4664a-ff7f-4474-b6af-3a4ad3f73052",
   "metadata": {
    "tags": []
   },
   "outputs": [
    {
     "name": "stderr",
     "output_type": "stream",
     "text": [
      "INFO:httpx:HTTP Request: POST http://localhost:8321/v1/vector-dbs \"HTTP/1.1 200 OK\"\n",
      "INFO:httpx:HTTP Request: POST http://localhost:8321/v1/tool-runtime/rag-tool/insert \"HTTP/1.1 200 OK\"\n"
     ]
    }
   ],
   "source": [
    "vector_db_id = f\"test_vector_db_{uuid.uuid4()}\"\n",
    "client.vector_dbs.register(\n",
    "    vector_db_id=vector_db_id,\n",
    "    embedding_model=os.getenv(\"VDB_EMBEDDING\"),\n",
    "    embedding_dimension=int(os.getenv(\"VDB_EMBEDDING_DIMENSION\", 384)),\n",
    "    provider_id=os.getenv(\"VDB_PROVIDER\"),\n",
    ")\n",
    "\n",
    "# ingest the documents into the newly created document collection\n",
    "urls = [\n",
    "    (\"https://www.openshift.guide/openshift-guide-screen.pdf\", \"application/pdf\"),\n",
    "]\n",
    "documents = [\n",
    "    RAGDocument(\n",
    "        document_id=f\"num-{i}\",\n",
    "        content=url,\n",
    "        mime_type=url_type,\n",
    "        metadata={},\n",
    "    )\n",
    "    for i, (url, url_type) in enumerate(urls)\n",
    "]\n",
    "client.tool_runtime.rag_tool.insert(\n",
    "    documents=documents,\n",
    "    vector_db_id=vector_db_id,\n",
    "    chunk_size_in_tokens=int(os.getenv(\"VECTOR_DB_CHUNK_SIZE\", 512)),\n",
    ")"
   ]
  },
  {
   "cell_type": "markdown",
   "id": "d5639413-90d6-42ae-add4-6c89da0297e2",
   "metadata": {},
   "source": [
    "## 3. Executing queries via the RAG agent\n",
    "- Initialize an agent with a list of tools including the built-in RAG tool. The RAG tool specification must include a list of document collection IDs to retrieve from.\n",
    "- For each prompt, initialize a new agent session, execute a turn during which a retrieval call may be requested, and output the reply received from the agent."
   ]
  },
  {
   "cell_type": "code",
   "execution_count": 4,
   "id": "95b9baa2-4739-426a-b79a-2ff90f44c023",
   "metadata": {
    "tags": []
   },
   "outputs": [
    {
     "name": "stderr",
     "output_type": "stream",
     "text": [
      "INFO:httpx:HTTP Request: POST http://localhost:8321/v1/agents \"HTTP/1.1 200 OK\"\n",
      "INFO:httpx:HTTP Request: GET http://localhost:8321/v1/tools?toolgroup_id=builtin%3A%3Arag \"HTTP/1.1 200 OK\"\n",
      "INFO:httpx:HTTP Request: POST http://localhost:8321/v1/agents/1c2207b2-9c9e-47fc-8040-998fb992677a/session \"HTTP/1.1 200 OK\"\n",
      "INFO:httpx:HTTP Request: POST http://localhost:8321/v1/agents/1c2207b2-9c9e-47fc-8040-998fb992677a/session/52ea4d25-78c1-4986-9f20-c3f8c5b3c1fb/turn \"HTTP/1.1 200 OK\"\n"
     ]
    },
    {
     "name": "stdout",
     "output_type": "stream",
     "text": [
      "\u001b[34m\n",
      "User> How to install OpenShift?\u001b[0m\n",
      "\n",
      "---------- 📍 Step 1: InferenceStep ----------\n",
      "🛠️ Tool call Generated:\n",
      "\u001b[35mTool call: knowledge_search, Arguments: {'query': 'OpenShift installation instructions'}\u001b[0m\n",
      "\n",
      "---------- 📍 Step 2: ToolExecutionStep ----------\n",
      "🔧 Executing tool...\n"
     ]
    },
    {
     "data": {
      "text/html": [
       "<pre style=\"white-space:pre;overflow-x:auto;line-height:normal;font-family:Menlo,'DejaVu Sans Mono',consolas,'Courier New',monospace\"><span style=\"font-weight: bold\">[</span>\n",
       "<span style=\"color: #7fbf7f; text-decoration-color: #7fbf7f\">│   </span><span style=\"color: #800080; text-decoration-color: #800080; font-weight: bold\">TextContentItem</span><span style=\"font-weight: bold\">(</span>\n",
       "<span style=\"color: #7fbf7f; text-decoration-color: #7fbf7f\">│   │   </span><span style=\"color: #808000; text-decoration-color: #808000\">text</span>=<span style=\"color: #008000; text-decoration-color: #008000\">'knowledge_search tool found 5 chunks:\\nBEGIN of knowledge_search tool results.\\n'</span>,\n",
       "<span style=\"color: #7fbf7f; text-decoration-color: #7fbf7f\">│   │   </span><span style=\"color: #808000; text-decoration-color: #808000\">type</span>=<span style=\"color: #008000; text-decoration-color: #008000\">'text'</span>\n",
       "<span style=\"color: #7fbf7f; text-decoration-color: #7fbf7f\">│   </span><span style=\"font-weight: bold\">)</span>,\n",
       "<span style=\"color: #7fbf7f; text-decoration-color: #7fbf7f\">│   </span><span style=\"color: #800080; text-decoration-color: #800080; font-weight: bold\">TextContentItem</span><span style=\"font-weight: bold\">(</span>\n",
       "<span style=\"color: #7fbf7f; text-decoration-color: #7fbf7f\">│   │   </span><span style=\"color: #808000; text-decoration-color: #808000\">text</span>=<span style=\"color: #008000; text-decoration-color: #008000\">'Result 1\\nContent:  \"Import from Git\" entry. Click on it, and paste the URL of a project, for example,\\ngitlab.com/akosma/simple-deno-api.git.\\nAs soon as you paste the URL, OpenShift will immediately analyze the structure and programming\\nlanguage of the project and automatically recommend options for its build process. In our case, it’s\\na small application built with the Go programming language, and as such, it will advise the options\\nshown on the screen.\\nFigure 5. Deploying a project directly from its Git repository\\n25\\nThis particular example doesn’t require more configurations than the ones shown on the screen;\\nclick the [\\u2009Create\\u2009] button.\\nAfter a few seconds, you will see your application running on the \"Topology\" screen. OpenShift will\\ndownload the source code and trigger your project’s build. Click on the Topology screen icon to see\\nthe \"Build\" section, indicating that a build is running. The compilation and deployment of your\\napplication can take some time, depending on the complexity of the source code and the\\nprogramming language used.\\nOnce the build has finished, on the same pane, you will see a route available under the \"Routes\"\\nsection. Click on it, and you will see your application in action.\\n10.2. Container Registry\\nOpenShift has built your application source code, and the product of this build process is a\\ncontainer. You can see the container that OpenShift made for you on the \"Administrator\"\\nperspective, selecting the \"Builds\" menu and then the \"ImageStreams\" menu entry.\\nOpenShift includes a container registry; developers can use it as any other registry from outside the\\ncluster. Let us use \"podman\" to access the container registry and run the container locally on your\\nworkstation.\\nUsers must have the \"registry-editor\" and the \"system:image-builder\" roles to access the container\\nregistry. Since we’re connected to the Web Console using the \"kubeadmin\" user, we can provide\\nthose roles directly from the user interface without using the command line.\\nNavigate to the \"User Management\" section and select \"RoleBindings.\" Click on the [\\u2009Create\\nbinding\\u2009] button, and fill the form using the following values:\\n• Name: developer-sourcecode-registry-editor\\n• Namespace: sourcecode\\n• Role name: registry-editor\\n• Subject: User\\n• Subject name: developer\\nDo the same for the \"system:image-builder\" role, using a different \"Name\" field\\nMetadata: {\\'document_id\\': \\'num-0\\'}\\n'</span>,\n",
       "<span style=\"color: #7fbf7f; text-decoration-color: #7fbf7f\">│   │   </span><span style=\"color: #808000; text-decoration-color: #808000\">type</span>=<span style=\"color: #008000; text-decoration-color: #008000\">'text'</span>\n",
       "<span style=\"color: #7fbf7f; text-decoration-color: #7fbf7f\">│   </span><span style=\"font-weight: bold\">)</span>,\n",
       "<span style=\"color: #7fbf7f; text-decoration-color: #7fbf7f\">│   </span><span style=\"color: #800080; text-decoration-color: #800080; font-weight: bold\">TextContentItem</span><span style=\"font-weight: bold\">(</span>\n",
       "<span style=\"color: #7fbf7f; text-decoration-color: #7fbf7f\">│   │   </span><span style=\"color: #808000; text-decoration-color: #808000\">text</span>=<span style=\"color: #008000; text-decoration-color: #008000\">\"Result 2\\nContent:  over 28 years of experience, currently working as\\nSenior Architect for Red Hat. He is a published author, trainer, and speaker. He has written many\\nbooks about software development and has shipped cloud, mobile, and desktop apps since 1996.\\nAdrian holds a Master in Information Technology from the University of Liverpool.\\nAdrian is the co-creator of De Programmatica Ipsum , a monthly publication about the impact of\\nsoftware in society.\\nWhen not coding or teaching, Adrian likes to spend time with his wife Claudia, his cat Max and his\\nOlivetti Lettera 22 typewriter.\\n1\\nChapter 1. Course Requirements\\nThis section enumerates some knowledge and tools that would be useful to follow this course about\\nRed Hat OpenShift.\\n1.1. Audience\\nThis course is geared towards developers interested in running applications in OpenShift. It is also\\nuseful for DevOps engineers who want to learn how to use OpenShift to build and deploy cloud\\nnative applications.\\n1.2. Recommended Tools\\nHere’s some basic tooling to try Red Hat OpenShift by yourself:\\n• Operating System\\n◦ Microsoft Windows, Apple macOS, or Linux.\\n• Applications\\n◦ Git\\n◦ Podman, Podman Desktop, Docker, or Docker Desktop\\n• Accounts\\n◦ A Red Hat Developer account\\n◦ A GitHub account\\n1.3. Knowledge\\nYou should be familiar with:\\n• Containers\\n◦ Dockerfile and Containerfile\\n◦ Docker or Podman\\n◦ Container registries\\n• Kubernetes\\n◦ Deploying applications\\n◦ Manifests in YAML format\\n◦ Performing basic administration tasks\\n• Git\\n◦ GitHub and GitLab\\n2\\n1.4. Example Code\\nThis course uses 4 simple, open-source containerized applications:\\n• simple-go-api, written in the Go programming language\\n◦ Container: registry.gitlab.com/akosma/simple-go-api:latest\\n• catalog-dotnet, written in C# with the ASP.NET framework.\\n◦ Container: registry.gitlab.com/akosma/catalog-dotnet:latest\\n• image-go-api, written in the Go programming language , using the Gin Web Framework  and\\ngenerating images via ImageMagick.\\n◦ Container: registry.gitlab.com/akosma/image-go-api:latest\\n• simple-deno-api, written in TypeScript and running with Oak under the Deno runtime\\n◦ Container: registry.gitlab.com/akosma\\nMetadata: {'document_id': 'num-0'}\\n\"</span>,\n",
       "<span style=\"color: #7fbf7f; text-decoration-color: #7fbf7f\">│   │   </span><span style=\"color: #808000; text-decoration-color: #808000\">type</span>=<span style=\"color: #008000; text-decoration-color: #008000\">'text'</span>\n",
       "<span style=\"color: #7fbf7f; text-decoration-color: #7fbf7f\">│   </span><span style=\"font-weight: bold\">)</span>,\n",
       "<span style=\"color: #7fbf7f; text-decoration-color: #7fbf7f\">│   </span><span style=\"color: #800080; text-decoration-color: #800080; font-weight: bold\">TextContentItem</span><span style=\"font-weight: bold\">(</span>\n",
       "<span style=\"color: #7fbf7f; text-decoration-color: #7fbf7f\">│   │   </span><span style=\"color: #808000; text-decoration-color: #808000\">text</span>=<span style=\"color: #008000; text-decoration-color: #008000\">'Result 3\\nContent: _02 branch of the GitHub\\nrepository for this course.\\nThe whole point of OpenShift is to be able to deploy, run, and monitor containerized applications.\\nDevOps engineers can deploy containers in OpenShift clusters through various means, for example:\\n• Using a YAML manifest.\\n• Deploying a single container using the web console.\\n• Building a project stored in a Git repository anywhere on the Internet and deploying the\\nresulting container.\\n• Using the integrated CI/CD pipelines.\\n• Using the odo tool together with \"Devfiles.\"\\nEach approach has pros and cons; in this chapter, we will review how to use the web console and\\nhow to use the odo tool.\\n9.1. Deploying Applications with the Web Console\\nDevOps engineers can deploy applications immediately using the Web Console. Launch your CRC\\ninstance and open the web console in your preferred web browser. The URL of the OpenShift web\\nconsole is \"https://console-openshift-console.apps-crc.testing.\"\\nThe OpenShift Web Console offers two major perspectives:\\n• The \"Administrator\" perspective.\\n• And the \"Developer\" perspective.\\nFor this explanation, select the \"Developer\" perspective.\\nThe first time you open the Developer perspective, a popup invites you to follow a user interface\\ntour.\\nOn the left-hand side, the perspective menu shows an entry titled \"Add,\" which, as the name\\nimplies, provides various mechanisms to deploy applications on an OpenShift cluster.\\nThe \"Add\" screen shows the various ways DevOps engineers can deploy applications on a cluster:\\n• Using the Developer Catalog, browsing and choosing among a long list of available databases,\\nmessage queues, and other valuable components to build applications, or entering your\\npreferred Helm chart repository to extend the catalog.\\n• Specifying the URL to a specific container on any standard container registry.\\n• Specifying the URL of a source code project stored on a Git repository, for example, but not\\n22\\nlimited to GitHub, GitLab, Gitea, or other locations.\\n• Importing YAML directly or even a JAR file with a Java application.\\nLet us select the \"Container Image\" option, where we can specify the URL of a ready-to-use\\ncontainer.\\nEnter the URL of the container on the field, and click on the [\\u2009Create\\u2009] button at the bottom of the\\npage. You do not need to change any other value on the form.\\nA few seconds later, depending on the size of the container and the speed of your Internet\\nconnection,\\nMetadata: {\\'document_id\\': \\'num-0\\'}\\n'</span>,\n",
       "<span style=\"color: #7fbf7f; text-decoration-color: #7fbf7f\">│   │   </span><span style=\"color: #808000; text-decoration-color: #808000\">type</span>=<span style=\"color: #008000; text-decoration-color: #008000\">'text'</span>\n",
       "<span style=\"color: #7fbf7f; text-decoration-color: #7fbf7f\">│   </span><span style=\"font-weight: bold\">)</span>,\n",
       "<span style=\"color: #7fbf7f; text-decoration-color: #7fbf7f\">│   </span><span style=\"color: #800080; text-decoration-color: #800080; font-weight: bold\">TextContentItem</span><span style=\"font-weight: bold\">(</span>\n",
       "<span style=\"color: #7fbf7f; text-decoration-color: #7fbf7f\">│   │   </span><span style=\"color: #808000; text-decoration-color: #808000\">text</span>=<span style=\"color: #008000; text-decoration-color: #008000\">'Result 4\\nContent:  advanced topics, like templates, operators, serverless with\\nKnative, and service mesh with Istio.\\n31\\nChapter 12. Templates and Operators\\nLet’s talk about OpenShift 4.12 templates and operators, both powerful ways to create and deploy\\napplications on OpenShift.\\n12.1. Templates\\nOpenShift templates are YAML or JSON files that describe the desired state of application\\ncomponents, such as pods, services, routes, and build configurations. You can use templates to\\ndefine reusable and parameterized application configurations that can be instantiated with a single\\ncommand or through the web console.\\nTemplates can help you simplify and automate the creation of complex applications, such as\\nmicroservices, that consist of multiple components that need to communicate with each other. You\\ncan also use templates to share best practices and common patterns for deploying applications on\\nOpenShift.\\napiVersion: template.openshift.io/v1\\nkind: Template ①\\nmetadata:\\n\\xa0 name: postgresql\\nparameters:\\n\\xa0 - name: APPLICATION_NAME ②\\n\\xa0   description: \"The application name\"\\n\\xa0   value: postgresql\\n\\xa0 - name: POSTGRESQL_USER\\n\\xa0   description: \"Username of the PostgreSQL user\"\\n\\xa0   value: user\\nobjects:\\n- apiVersion: v1\\n\\xa0 kind: DeploymentConfig\\n\\xa0 metadata:\\n\\xa0   labels:\\n\\xa0     app: ${APPLICATION_NAME} ③\\n\\xa0   name: ${APPLICATION_NAME}\\n\\xa0 spec:\\n\\xa0   replicas: 1\\n\\xa0   selector:\\n\\xa0     app: ${APPLICATION_NAME}\\n\\xa0   strategy:\\n① Definition of a template conforming to the OpenShift CRD.\\n② Declaration of an APPLICATION_NAME parameter.\\n③ Usage of the APPLICATION_NAME parameter.\\n\\uf0eb You can see the full contents of a template in action in the 04_02 branch of the\\nGitHub repository for this course, in the file 00-postgresql-template.yaml.\\n32\\nOpenShift 4.12 introduces some new features and enhancements for templates:\\n• Support for Helm charts, which are a popular way to package and distribute Kubernetes\\napplications. You can now use Helm charts as templates on OpenShift and leverage the Helm\\nCLI and the OpenShift web console to install and manage them.\\n• Improved template editing and validation in the web console, which makes it easier to create\\nand modify templates with a graphical interface and provides instant feedback on syntax errors\\nand parameter values.\\n• New template samples and quick starts, which provide ready-to-use examples of common\\napplication scenarios,\\nMetadata: {\\'document_id\\': \\'num-0\\'}\\n'</span>,\n",
       "<span style=\"color: #7fbf7f; text-decoration-color: #7fbf7f\">│   │   </span><span style=\"color: #808000; text-decoration-color: #808000\">type</span>=<span style=\"color: #008000; text-decoration-color: #008000\">'text'</span>\n",
       "<span style=\"color: #7fbf7f; text-decoration-color: #7fbf7f\">│   </span><span style=\"font-weight: bold\">)</span>,\n",
       "<span style=\"color: #7fbf7f; text-decoration-color: #7fbf7f\">│   </span><span style=\"color: #800080; text-decoration-color: #800080; font-weight: bold\">TextContentItem</span><span style=\"font-weight: bold\">(</span>\n",
       "<span style=\"color: #7fbf7f; text-decoration-color: #7fbf7f\">│   │   </span><span style=\"color: #808000; text-decoration-color: #808000\">text</span>=<span style=\"color: #008000; text-decoration-color: #008000\">'Result 5\\nContent:  Git repository, for example, but not\\n22\\nlimited to GitHub, GitLab, Gitea, or other locations.\\n• Importing YAML directly or even a JAR file with a Java application.\\nLet us select the \"Container Image\" option, where we can specify the URL of a ready-to-use\\ncontainer.\\nEnter the URL of the container on the field, and click on the [\\u2009Create\\u2009] button at the bottom of the\\npage. You do not need to change any other value on the form.\\nA few seconds later, depending on the size of the container and the speed of your Internet\\nconnection, OpenShift will have pulled the container and deployed it onto your cluster. This\\ndeployment will include the usual standard elements: a \"Deployment\" object, a \"Service\" object, and\\na \"Route.\"\\nOpenShift offers a visual representation of the applications running on your project: click on the\\nicon of your container, and you will see a panel opening on the right side of the screen. This panel\\nwill include the URL automatically assigned to your deployment, and clicking it will show the\\napplication in action in another browser tab.\\nFigure 4. Topology screen on Red Hat OpenShift\\n9.2. Creating and Debugging Applications with the odo\\nTool\\nWith the oc tool, Red Hat provides another one geared toward software developers: the odo tool.\\nDevelopers can use the odo tool to create applications using \"Devfiles,\" particular files named\\n\"devfile.yaml\" based on an open standard available at the Devfiles website. Devfiles contain\\ninformation about your application’s programming language, dependencies, and other essential\\ndetails.\\n23\\nThe odo tool is not available by default on your command line, but you can download it from the\\n\"Help\" menu on the OpenShift Web Console through the \"Command line tools\" entry. Click on the\\n\"Download odo\" link at the bottom, and select the version of odo that corresponds to your system.\\nThe \"odo catalog list components was\" command shows the various programming languages and\\nframeworks supported off-the-box by \"odo.\"\\nThe odo init  command prompts the user for a new application using many programming\\nlanguages: .NET, Go, Java, JavaScript, PHP, Python, and TypeScript. The last command generates a\\nscaffold ready to be populated with the required logic. Finally, the odo push command builds and\\npushes the container to the OpenShift container registry, deploying\\nMetadata: {\\'document_id\\': \\'num-0\\'}\\n'</span>,\n",
       "<span style=\"color: #7fbf7f; text-decoration-color: #7fbf7f\">│   │   </span><span style=\"color: #808000; text-decoration-color: #808000\">type</span>=<span style=\"color: #008000; text-decoration-color: #008000\">'text'</span>\n",
       "<span style=\"color: #7fbf7f; text-decoration-color: #7fbf7f\">│   </span><span style=\"font-weight: bold\">)</span>,\n",
       "<span style=\"color: #7fbf7f; text-decoration-color: #7fbf7f\">│   </span><span style=\"color: #800080; text-decoration-color: #800080; font-weight: bold\">TextContentItem</span><span style=\"font-weight: bold\">(</span><span style=\"color: #808000; text-decoration-color: #808000\">text</span>=<span style=\"color: #008000; text-decoration-color: #008000\">'END of knowledge_search tool results.\\n'</span>, <span style=\"color: #808000; text-decoration-color: #808000\">type</span>=<span style=\"color: #008000; text-decoration-color: #008000\">'text'</span><span style=\"font-weight: bold\">)</span>,\n",
       "<span style=\"color: #7fbf7f; text-decoration-color: #7fbf7f\">│   </span><span style=\"color: #800080; text-decoration-color: #800080; font-weight: bold\">TextContentItem</span><span style=\"font-weight: bold\">(</span>\n",
       "<span style=\"color: #7fbf7f; text-decoration-color: #7fbf7f\">│   │   </span><span style=\"color: #808000; text-decoration-color: #808000\">text</span>=<span style=\"color: #008000; text-decoration-color: #008000\">'The above results were retrieved to help answer the user\\'s query: \"OpenShift installation instructions\". Use them as supporting information only in answering this query.\\n'</span>,\n",
       "<span style=\"color: #7fbf7f; text-decoration-color: #7fbf7f\">│   │   </span><span style=\"color: #808000; text-decoration-color: #808000\">type</span>=<span style=\"color: #008000; text-decoration-color: #008000\">'text'</span>\n",
       "<span style=\"color: #7fbf7f; text-decoration-color: #7fbf7f\">│   </span><span style=\"font-weight: bold\">)</span>\n",
       "<span style=\"font-weight: bold\">]</span>\n",
       "</pre>\n"
      ],
      "text/plain": [
       "\u001b[1m[\u001b[0m\n",
       "\u001b[2;32m│   \u001b[0m\u001b[1;35mTextContentItem\u001b[0m\u001b[1m(\u001b[0m\n",
       "\u001b[2;32m│   │   \u001b[0m\u001b[33mtext\u001b[0m=\u001b[32m'knowledge_search tool found 5 chunks:\\nBEGIN of knowledge_search tool results.\\n'\u001b[0m,\n",
       "\u001b[2;32m│   │   \u001b[0m\u001b[33mtype\u001b[0m=\u001b[32m'text'\u001b[0m\n",
       "\u001b[2;32m│   \u001b[0m\u001b[1m)\u001b[0m,\n",
       "\u001b[2;32m│   \u001b[0m\u001b[1;35mTextContentItem\u001b[0m\u001b[1m(\u001b[0m\n",
       "\u001b[2;32m│   │   \u001b[0m\u001b[33mtext\u001b[0m=\u001b[32m'Result 1\\nContent:  \"Import from Git\" entry. Click on it, and paste the URL of a project, for example,\\ngitlab.com/akosma/simple-deno-api.git.\\nAs soon as you paste the URL, OpenShift will immediately analyze the structure and programming\\nlanguage of the project and automatically recommend options for its build process. In our case, it’s\\na small application built with the Go programming language, and as such, it will advise the options\\nshown on the screen.\\nFigure 5. Deploying a project directly from its Git repository\\n25\\nThis particular example doesn’t require more configurations than the ones shown on the screen;\\nclick the \u001b[0m\u001b[32m[\u001b[0m\u001b[32m\\u2009Create\\u2009\u001b[0m\u001b[32m]\u001b[0m\u001b[32m button.\\nAfter a few seconds, you will see your application running on the \"Topology\" screen. OpenShift will\\ndownload the source code and trigger your project’s build. Click on the Topology screen icon to see\\nthe \"Build\" section, indicating that a build is running. The compilation and deployment of your\\napplication can take some time, depending on the complexity of the source code and the\\nprogramming language used.\\nOnce the build has finished, on the same pane, you will see a route available under the \"Routes\"\\nsection. Click on it, and you will see your application in action.\\n10.2. Container Registry\\nOpenShift has built your application source code, and the product of this build process is a\\ncontainer. You can see the container that OpenShift made for you on the \"Administrator\"\\nperspective, selecting the \"Builds\" menu and then the \"ImageStreams\" menu entry.\\nOpenShift includes a container registry; developers can use it as any other registry from outside the\\ncluster. Let us use \"podman\" to access the container registry and run the container locally on your\\nworkstation.\\nUsers must have the \"registry-editor\" and the \"system:image-builder\" roles to access the container\\nregistry. Since we’re connected to the Web Console using the \"kubeadmin\" user, we can provide\\nthose roles directly from the user interface without using the command line.\\nNavigate to the \"User Management\" section and select \"RoleBindings.\" Click on the \u001b[0m\u001b[32m[\u001b[0m\u001b[32m\\u2009Create\\nbinding\\u2009\u001b[0m\u001b[32m]\u001b[0m\u001b[32m button, and fill the form using the following values:\\n• Name: developer-sourcecode-registry-editor\\n• Namespace: sourcecode\\n• Role name: registry-editor\\n• Subject: User\\n• Subject name: developer\\nDo the same for the \"system:image-builder\" role, using a different \"Name\" field\\nMetadata: \u001b[0m\u001b[32m{\u001b[0m\u001b[32m\\'document_id\\': \\'num-0\\'\u001b[0m\u001b[32m}\u001b[0m\u001b[32m\\n'\u001b[0m,\n",
       "\u001b[2;32m│   │   \u001b[0m\u001b[33mtype\u001b[0m=\u001b[32m'text'\u001b[0m\n",
       "\u001b[2;32m│   \u001b[0m\u001b[1m)\u001b[0m,\n",
       "\u001b[2;32m│   \u001b[0m\u001b[1;35mTextContentItem\u001b[0m\u001b[1m(\u001b[0m\n",
       "\u001b[2;32m│   │   \u001b[0m\u001b[33mtext\u001b[0m=\u001b[32m\"Result\u001b[0m\u001b[32m 2\\nContent:  over 28 years of experience, currently working as\\nSenior Architect for Red Hat. He is a published author, trainer, and speaker. He has written many\\nbooks about software development and has shipped cloud, mobile, and desktop apps since 1996.\\nAdrian holds a Master in Information Technology from the University of Liverpool.\\nAdrian is the co-creator of De Programmatica Ipsum , a monthly publication about the impact of\\nsoftware in society.\\nWhen not coding or teaching, Adrian likes to spend time with his wife Claudia, his cat Max and his\\nOlivetti Lettera 22 typewriter.\\n1\\nChapter 1. Course Requirements\\nThis section enumerates some knowledge and tools that would be useful to follow this course about\\nRed Hat OpenShift.\\n1.1. Audience\\nThis course is geared towards developers interested in running applications in OpenShift. It is also\\nuseful for DevOps engineers who want to learn how to use OpenShift to build and deploy cloud\\nnative applications.\\n1.2. Recommended Tools\\nHere’s some basic tooling to try Red Hat OpenShift by yourself:\\n• Operating System\\n◦ Microsoft Windows, Apple macOS, or Linux.\\n• Applications\\n◦ Git\\n◦ Podman, Podman Desktop, Docker, or Docker Desktop\\n• Accounts\\n◦ A Red Hat Developer account\\n◦ A GitHub account\\n1.3. Knowledge\\nYou should be familiar with:\\n• Containers\\n◦ Dockerfile and Containerfile\\n◦ Docker or Podman\\n◦ Container registries\\n• Kubernetes\\n◦ Deploying applications\\n◦ Manifests in YAML format\\n◦ Performing basic administration tasks\\n• Git\\n◦ GitHub and GitLab\\n2\\n1.4. Example Code\\nThis course uses 4 simple, open-source containerized applications:\\n• simple-go-api, written in the Go programming language\\n◦ Container: registry.gitlab.com/akosma/simple-go-api:latest\\n• catalog-dotnet, written in C# with the ASP.NET framework.\\n◦ Container: registry.gitlab.com/akosma/catalog-dotnet:latest\\n• image-go-api, written in the Go programming language , using the Gin Web Framework  and\\ngenerating images via ImageMagick.\\n◦ Container: registry.gitlab.com/akosma/image-go-api:latest\\n• simple-deno-api, written in TypeScript and running with Oak under the Deno runtime\\n◦ Container: registry.gitlab.com/akosma\\nMetadata: \u001b[0m\u001b[32m{\u001b[0m\u001b[32m'document_id': 'num-0'\u001b[0m\u001b[32m}\u001b[0m\u001b[32m\\n\"\u001b[0m,\n",
       "\u001b[2;32m│   │   \u001b[0m\u001b[33mtype\u001b[0m=\u001b[32m'text'\u001b[0m\n",
       "\u001b[2;32m│   \u001b[0m\u001b[1m)\u001b[0m,\n",
       "\u001b[2;32m│   \u001b[0m\u001b[1;35mTextContentItem\u001b[0m\u001b[1m(\u001b[0m\n",
       "\u001b[2;32m│   │   \u001b[0m\u001b[33mtext\u001b[0m=\u001b[32m'Result 3\\nContent: _02 branch of the GitHub\\nrepository for this course.\\nThe whole point of OpenShift is to be able to deploy, run, and monitor containerized applications.\\nDevOps engineers can deploy containers in OpenShift clusters through various means, for example:\\n• Using a YAML manifest.\\n• Deploying a single container using the web console.\\n• Building a project stored in a Git repository anywhere on the Internet and deploying the\\nresulting container.\\n• Using the integrated CI/CD pipelines.\\n• Using the odo tool together with \"Devfiles.\"\\nEach approach has pros and cons; in this chapter, we will review how to use the web console and\\nhow to use the odo tool.\\n9.1. Deploying Applications with the Web Console\\nDevOps engineers can deploy applications immediately using the Web Console. Launch your CRC\\ninstance and open the web console in your preferred web browser. The URL of the OpenShift web\\nconsole is \"https://console-openshift-console.apps-crc.testing.\"\\nThe OpenShift Web Console offers two major perspectives:\\n• The \"Administrator\" perspective.\\n• And the \"Developer\" perspective.\\nFor this explanation, select the \"Developer\" perspective.\\nThe first time you open the Developer perspective, a popup invites you to follow a user interface\\ntour.\\nOn the left-hand side, the perspective menu shows an entry titled \"Add,\" which, as the name\\nimplies, provides various mechanisms to deploy applications on an OpenShift cluster.\\nThe \"Add\" screen shows the various ways DevOps engineers can deploy applications on a cluster:\\n• Using the Developer Catalog, browsing and choosing among a long list of available databases,\\nmessage queues, and other valuable components to build applications, or entering your\\npreferred Helm chart repository to extend the catalog.\\n• Specifying the URL to a specific container on any standard container registry.\\n• Specifying the URL of a source code project stored on a Git repository, for example, but not\\n22\\nlimited to GitHub, GitLab, Gitea, or other locations.\\n• Importing YAML directly or even a JAR file with a Java application.\\nLet us select the \"Container Image\" option, where we can specify the URL of a ready-to-use\\ncontainer.\\nEnter the URL of the container on the field, and click on the \u001b[0m\u001b[32m[\u001b[0m\u001b[32m\\u2009Create\\u2009\u001b[0m\u001b[32m]\u001b[0m\u001b[32m button at the bottom of the\\npage. You do not need to change any other value on the form.\\nA few seconds later, depending on the size of the container and the speed of your Internet\\nconnection,\\nMetadata: \u001b[0m\u001b[32m{\u001b[0m\u001b[32m\\'document_id\\': \\'num-0\\'\u001b[0m\u001b[32m}\u001b[0m\u001b[32m\\n'\u001b[0m,\n",
       "\u001b[2;32m│   │   \u001b[0m\u001b[33mtype\u001b[0m=\u001b[32m'text'\u001b[0m\n",
       "\u001b[2;32m│   \u001b[0m\u001b[1m)\u001b[0m,\n",
       "\u001b[2;32m│   \u001b[0m\u001b[1;35mTextContentItem\u001b[0m\u001b[1m(\u001b[0m\n",
       "\u001b[2;32m│   │   \u001b[0m\u001b[33mtext\u001b[0m=\u001b[32m'Result 4\\nContent:  advanced topics, like templates, operators, serverless with\\nKnative, and service mesh with Istio.\\n31\\nChapter 12. Templates and Operators\\nLet’s talk about OpenShift 4.12 templates and operators, both powerful ways to create and deploy\\napplications on OpenShift.\\n12.1. Templates\\nOpenShift templates are YAML or JSON files that describe the desired state of application\\ncomponents, such as pods, services, routes, and build configurations. You can use templates to\\ndefine reusable and parameterized application configurations that can be instantiated with a single\\ncommand or through the web console.\\nTemplates can help you simplify and automate the creation of complex applications, such as\\nmicroservices, that consist of multiple components that need to communicate with each other. You\\ncan also use templates to share best practices and common patterns for deploying applications on\\nOpenShift.\\napiVersion: template.openshift.io/v1\\nkind: Template ①\\nmetadata:\\n\\xa0 name: postgresql\\nparameters:\\n\\xa0 - name: APPLICATION_NAME ②\\n\\xa0   description: \"The application name\"\\n\\xa0   value: postgresql\\n\\xa0 - name: POSTGRESQL_USER\\n\\xa0   description: \"Username of the PostgreSQL user\"\\n\\xa0   value: user\\nobjects:\\n- apiVersion: v1\\n\\xa0 kind: DeploymentConfig\\n\\xa0 metadata:\\n\\xa0   labels:\\n\\xa0     app: $\u001b[0m\u001b[32m{\u001b[0m\u001b[32mAPPLICATION_NAME\u001b[0m\u001b[32m}\u001b[0m\u001b[32m ③\\n\\xa0   name: $\u001b[0m\u001b[32m{\u001b[0m\u001b[32mAPPLICATION_NAME\u001b[0m\u001b[32m}\u001b[0m\u001b[32m\\n\\xa0 spec:\\n\\xa0   replicas: 1\\n\\xa0   selector:\\n\\xa0     app: $\u001b[0m\u001b[32m{\u001b[0m\u001b[32mAPPLICATION_NAME\u001b[0m\u001b[32m}\u001b[0m\u001b[32m\\n\\xa0   strategy:\\n① Definition of a template conforming to the OpenShift CRD.\\n② Declaration of an APPLICATION_NAME parameter.\\n③ Usage of the APPLICATION_NAME parameter.\\n\\uf0eb You can see the full contents of a template in action in the 04_02 branch of the\\nGitHub repository for this course, in the file 00-postgresql-template.yaml.\\n32\\nOpenShift 4.12 introduces some new features and enhancements for templates:\\n• Support for Helm charts, which are a popular way to package and distribute Kubernetes\\napplications. You can now use Helm charts as templates on OpenShift and leverage the Helm\\nCLI and the OpenShift web console to install and manage them.\\n• Improved template editing and validation in the web console, which makes it easier to create\\nand modify templates with a graphical interface and provides instant feedback on syntax errors\\nand parameter values.\\n• New template samples and quick starts, which provide ready-to-use examples of common\\napplication scenarios,\\nMetadata: \u001b[0m\u001b[32m{\u001b[0m\u001b[32m\\'document_id\\': \\'num-0\\'\u001b[0m\u001b[32m}\u001b[0m\u001b[32m\\n'\u001b[0m,\n",
       "\u001b[2;32m│   │   \u001b[0m\u001b[33mtype\u001b[0m=\u001b[32m'text'\u001b[0m\n",
       "\u001b[2;32m│   \u001b[0m\u001b[1m)\u001b[0m,\n",
       "\u001b[2;32m│   \u001b[0m\u001b[1;35mTextContentItem\u001b[0m\u001b[1m(\u001b[0m\n",
       "\u001b[2;32m│   │   \u001b[0m\u001b[33mtext\u001b[0m=\u001b[32m'Result 5\\nContent:  Git repository, for example, but not\\n22\\nlimited to GitHub, GitLab, Gitea, or other locations.\\n• Importing YAML directly or even a JAR file with a Java application.\\nLet us select the \"Container Image\" option, where we can specify the URL of a ready-to-use\\ncontainer.\\nEnter the URL of the container on the field, and click on the \u001b[0m\u001b[32m[\u001b[0m\u001b[32m\\u2009Create\\u2009\u001b[0m\u001b[32m]\u001b[0m\u001b[32m button at the bottom of the\\npage. You do not need to change any other value on the form.\\nA few seconds later, depending on the size of the container and the speed of your Internet\\nconnection, OpenShift will have pulled the container and deployed it onto your cluster. This\\ndeployment will include the usual standard elements: a \"Deployment\" object, a \"Service\" object, and\\na \"Route.\"\\nOpenShift offers a visual representation of the applications running on your project: click on the\\nicon of your container, and you will see a panel opening on the right side of the screen. This panel\\nwill include the URL automatically assigned to your deployment, and clicking it will show the\\napplication in action in another browser tab.\\nFigure 4. Topology screen on Red Hat OpenShift\\n9.2. Creating and Debugging Applications with the odo\\nTool\\nWith the oc tool, Red Hat provides another one geared toward software developers: the odo tool.\\nDevelopers can use the odo tool to create applications using \"Devfiles,\" particular files named\\n\"devfile.yaml\" based on an open standard available at the Devfiles website. Devfiles contain\\ninformation about your application’s programming language, dependencies, and other essential\\ndetails.\\n23\\nThe odo tool is not available by default on your command line, but you can download it from the\\n\"Help\" menu on the OpenShift Web Console through the \"Command line tools\" entry. Click on the\\n\"Download odo\" link at the bottom, and select the version of odo that corresponds to your system.\\nThe \"odo catalog list components was\" command shows the various programming languages and\\nframeworks supported off-the-box by \"odo.\"\\nThe odo init  command prompts the user for a new application using many programming\\nlanguages: .NET, Go, Java, JavaScript, PHP, Python, and TypeScript. The last command generates a\\nscaffold ready to be populated with the required logic. Finally, the odo push command builds and\\npushes the container to the OpenShift container registry, deploying\\nMetadata: \u001b[0m\u001b[32m{\u001b[0m\u001b[32m\\'document_id\\': \\'num-0\\'\u001b[0m\u001b[32m}\u001b[0m\u001b[32m\\n'\u001b[0m,\n",
       "\u001b[2;32m│   │   \u001b[0m\u001b[33mtype\u001b[0m=\u001b[32m'text'\u001b[0m\n",
       "\u001b[2;32m│   \u001b[0m\u001b[1m)\u001b[0m,\n",
       "\u001b[2;32m│   \u001b[0m\u001b[1;35mTextContentItem\u001b[0m\u001b[1m(\u001b[0m\u001b[33mtext\u001b[0m=\u001b[32m'END of knowledge_search tool results.\\n'\u001b[0m, \u001b[33mtype\u001b[0m=\u001b[32m'text'\u001b[0m\u001b[1m)\u001b[0m,\n",
       "\u001b[2;32m│   \u001b[0m\u001b[1;35mTextContentItem\u001b[0m\u001b[1m(\u001b[0m\n",
       "\u001b[2;32m│   │   \u001b[0m\u001b[33mtext\u001b[0m=\u001b[32m'The above results were retrieved to help answer the user\\'s query: \"OpenShift installation instructions\". Use them as supporting information only in answering this query.\\n'\u001b[0m,\n",
       "\u001b[2;32m│   │   \u001b[0m\u001b[33mtype\u001b[0m=\u001b[32m'text'\u001b[0m\n",
       "\u001b[2;32m│   \u001b[0m\u001b[1m)\u001b[0m\n",
       "\u001b[1m]\u001b[0m\n"
      ]
     },
     "metadata": {},
     "output_type": "display_data"
    },
    {
     "name": "stdout",
     "output_type": "stream",
     "text": [
      "\n",
      "---------- 📍 Step 3: InferenceStep ----------\n",
      "🤖 Model Response:\n",
      "\u001b[35mBased on the provided text, here is a summary of the key points related to OpenShift templates and odo tool:\n",
      "\n",
      "**Templates**\n",
      "\n",
      "* Templates are used to define reusable and parameterized application configurations for OpenShift.\n",
      "* Templates can be used to simplify and automate the creation of complex applications, such as microservices.\n",
      "* Templates can help share best practices and common patterns for deploying applications on OpenShift.\n",
      "* A template definition is represented by a YAML file (e.g., `00-postgresql-template.yaml`).\n",
      "* Parameters can be defined in the template, which can be used to customize the application configuration.\n",
      "\n",
      "**odo Tool**\n",
      "\n",
      "* The odo tool is a command-line tool provided by Red Hat for creating applications on OpenShift.\n",
      "* Devfiles are used with the odo tool, which contain information about an application's programming language, dependencies, and other essential details.\n",
      "* The odo tool supports various programming languages and frameworks out-of-the-box (e.g., .NET, Go, Java, JavaScript, PHP, Python, TypeScript).\n",
      "* The odo tool can be downloaded from the OpenShift Web Console through the \"Command line tools\" entry.\n",
      "* The odo init command creates a new application using a devfile, while the odo push command builds and pushes the container to the OpenShift container registry.\n",
      "\n",
      "These points provide an overview of how templates and the odo tool can be used with OpenShift for application development and deployment.\n",
      "\u001b[0m\n",
      "========== Query processing completed ========== \n",
      "\n"
     ]
    }
   ],
   "source": [
    "queries = [\n",
    "    \"How to install OpenShift?\",\n",
    "]\n",
    "\n",
    "# initializing the agent\n",
    "agent = Agent(\n",
    "    client,\n",
    "    model=model_id,\n",
    "    instructions=\"You are a helpful assistant. You must use the knowledge search tool to answer user questions.\",\n",
    "    sampling_params=sampling_params,\n",
    "    # we make our agent aware of the RAG tool by including builtin::rag/knowledge_search in the list of tools\n",
    "    tools=[\n",
    "        dict(\n",
    "            name=\"builtin::rag\",\n",
    "            args={\n",
    "                \"vector_db_ids\": [vector_db_id],  # list of IDs of document collections to consider during retrieval\n",
    "            },\n",
    "        )\n",
    "    ],\n",
    ")\n",
    "\n",
    "for prompt in queries:\n",
    "    cprint(f\"\\nUser> {prompt}\", \"blue\")\n",
    "    \n",
    "    # create a new turn with a new session ID for each prompt\n",
    "    response = agent.create_turn(\n",
    "        messages=[\n",
    "            {\n",
    "                \"role\": \"user\",\n",
    "                \"content\": prompt,\n",
    "            }\n",
    "        ],\n",
    "        session_id=agent.create_session(f\"rag-session_{uuid.uuid4()}\"),\n",
    "        stream=stream,\n",
    "    )\n",
    "    \n",
    "    # print the response, including tool calls output\n",
    "    if stream:\n",
    "        for log in EventLogger().log(response):\n",
    "            log.print()\n",
    "    else:\n",
    "        step_printer(response.steps)"
   ]
  },
  {
   "cell_type": "markdown",
   "id": "df6937a3-3efa-4b66-aaf0-85d96b6d43db",
   "metadata": {},
   "source": [
    "## Key Takeaways\n",
    "This notebook demonstrated how to implement a RAG agent with Llama Stack. We did this by creating an agent and giving it access to the builtin RAG tool, then invoking the agent on the specified query.\n",
    "\n"
   ]
  },
  {
   "cell_type": "markdown",
   "id": "6dc0fc00",
   "metadata": {},
   "source": [
    "#### Any Feedback?\n",
    "\n",
    "If you have any feedback on this or any other notebook in this demo series we'd love to hear it! Please go to https://www.feedback.redhat.com/jfe/form/SV_8pQsoy0U9Ccqsvk and help us improve our demos. "
   ]
  }
 ],
 "metadata": {
  "kernelspec": {
   "display_name": "llama-stack-client-demo",
   "language": "python",
   "name": "python3"
  },
  "language_info": {
   "codemirror_mode": {
    "name": "ipython",
    "version": 3
   },
   "file_extension": ".py",
   "mimetype": "text/x-python",
   "name": "python",
   "nbconvert_exporter": "python",
   "pygments_lexer": "ipython3",
   "version": "3.11.8"
  }
 },
 "nbformat": 4,
 "nbformat_minor": 5
}
